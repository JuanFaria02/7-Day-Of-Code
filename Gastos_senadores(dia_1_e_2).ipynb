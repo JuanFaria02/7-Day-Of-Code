{
  "nbformat": 4,
  "nbformat_minor": 0,
  "metadata": {
    "colab": {
      "name": "Gastos_senadores(dia 1 e 2).ipynb",
      "provenance": [],
      "mount_file_id": "1JkmejPyGqwqO86pP-V_1JmYG5Z0NAfpH",
      "authorship_tag": "ABX9TyOfBIH6zxHmDTeR0h1I8zLO",
      "include_colab_link": true
    },
    "kernelspec": {
      "name": "python3",
      "display_name": "Python 3"
    },
    "language_info": {
      "name": "python"
    }
  },
  "cells": [
    {
      "cell_type": "markdown",
      "metadata": {
        "id": "view-in-github",
        "colab_type": "text"
      },
      "source": [
        "<a href=\"https://colab.research.google.com/github/JuanFaria02/7-Day-Of-Code/blob/master/Gastos_senadores(dia_1_e_2).ipynb\" target=\"_parent\"><img src=\"https://colab.research.google.com/assets/colab-badge.svg\" alt=\"Open In Colab\"/></a>"
      ]
    },
    {
      "cell_type": "markdown",
      "source": [
        "#Gastos dos Senadores (2016-2020)\n",
        "\n",
        "##Introdução\n",
        "---\n",
        "Os gastos dos senadores são muitas vezes usadas indevidamente e de forma exorbitante, por conta dessas questões é de extrema importância análisar os dados desses gastos e tirar conclusões deles afim de apresentar a população geral como e quanto é gasto. "
      ],
      "metadata": {
        "id": "ZgNsJHMy9XbN"
      }
    },
    {
      "cell_type": "markdown",
      "source": [
        "#**ANALISANDO OS DADOS**\n",
        "\n",
        "\n",
        "---\n",
        "Limpeza e estruturação dos dados \n",
        "\n",
        "O primeiro passo é importar as bibliotecas que serão usadas"
      ],
      "metadata": {
        "id": "X4NffuB9CvFu"
      }
    },
    {
      "cell_type": "code",
      "execution_count": 96,
      "metadata": {
        "id": "lcCdadgtLlq3"
      },
      "outputs": [],
      "source": [
        "import pandas as pd\n",
        "import matplotlib.pyplot as plt\n",
        "import numpy as np\n",
        "import seaborn as sns"
      ]
    },
    {
      "cell_type": "markdown",
      "source": [
        "Depois leremos todos os dados para utilizar seus reespectivos dataframes do ano de 2014 até 2019"
      ],
      "metadata": {
        "id": "ndMFDf_LDcLq"
      }
    },
    {
      "cell_type": "code",
      "source": [
        "'''df_2014 = pd.read_csv('/content/drive/MyDrive/Projetos /Gastos Senadores Brasileiros/Arquivo dados/despesa_ceaps_2014.csv', delimiter = \";\", header=1, encoding=\"ISO-8859-1\")\n",
        "df_2014 = pd.DataFrame(df_2014)\n",
        "'''\n",
        "df_2015 = pd.read_csv('/content/drive/MyDrive/Projetos /Gastos Senadores Brasileiros/Arquivo dados/despesa_ceaps_2015.csv', delimiter = \";\", header=1, encoding=\"ISO-8859-1\")\n",
        "df_2015 = pd.DataFrame(df_2015)\n",
        "\n",
        "df_2016 = pd.read_csv('/content/drive/MyDrive/Projetos /Gastos Senadores Brasileiros/Arquivo dados/despesa_ceaps_2016.csv', delimiter = \";\", header=1, encoding=\"ISO-8859-1\")\n",
        "df_2016 = pd.DataFrame(df_2016)\n",
        "\n",
        "df_2017 = pd.read_csv('/content/drive/MyDrive/Projetos /Gastos Senadores Brasileiros/Arquivo dados/despesa_ceaps_2017.csv', delimiter = \";\", header=1, encoding=\"ISO-8859-1\")\n",
        "df_2017 = pd.DataFrame(df_2017)\n",
        "\n",
        "df_2018 = pd.read_csv('/content/drive/MyDrive/Projetos /Gastos Senadores Brasileiros/Arquivo dados/despesa_ceaps_2018.csv', delimiter = \";\", header=1, encoding=\"ISO-8859-1\")\n",
        "df_2018 = pd.DataFrame(df_2018)\n",
        "\n",
        "df_2019 = pd.read_csv('/content/drive/MyDrive/Projetos /Gastos Senadores Brasileiros/Arquivo dados/despesa_ceaps_2019.csv', delimiter = \";\", header=1, encoding=\"ISO-8859-1\")\n",
        "df_2019 = pd.DataFrame(df_2019)\n",
        "\n",
        "df_2020 = pd.read_csv('/content/drive/MyDrive/Projetos /Gastos Senadores Brasileiros/Arquivo dados/despesa_ceaps_2020.csv', delimiter = \";\", header=1, encoding=\"ISO-8859-1\")\n",
        "df_2020 = pd.DataFrame(df_2020)\n",
        "\n",
        "\n",
        "#para ver valor vazio: ou o df_2018.info ou o df_2018.isna().any() ou sum()\n",
        "#print(df_2018.info())\n",
        "\n",
        "lista_df = [df_2015, df_2016, df_2017, df_2018, df_2019, df_2020]\n"
      ],
      "metadata": {
        "id": "ENHSXUQeNu_m"
      },
      "execution_count": 115,
      "outputs": []
    },
    {
      "cell_type": "markdown",
      "source": [
        "Os números não aparecem como nulos devido estarem como string. Portanto, para tratar esses dados é preciso converter as strings para numéricos, devido a parte decimal dos números estarem separadas por \",\" foi preciso transformar a \",\" em \".\" e depois converte-los. "
      ],
      "metadata": {
        "id": "0BuhDsEpFqRc"
      }
    },
    {
      "cell_type": "code",
      "source": [
        "for k in lista_df:\n",
        "  for i in k['VALOR_REEMBOLSADO']:\n",
        "    for s in i:\n",
        "      if s == ',':\n",
        "        i = i.replace(s, '.')\n",
        "  "
      ],
      "metadata": {
        "id": "H6DTE5rkbDJS"
      },
      "execution_count": 116,
      "outputs": []
    },
    {
      "cell_type": "code",
      "source": [
        "#Existem valores vazios que não aparecem como vazio pois é um número\n",
        "for i in range(len(lista_df)):\n",
        "  lista_df[i]['VALOR_REEMBOLSADO'] = pd.to_numeric(lista_df[i]['VALOR_REEMBOLSADO'], errors=\"coerce\")\n",
        "  lista_df[i]['VALOR_REEMBOLSADO'] = np.round(lista_df[i]['VALOR_REEMBOLSADO'], decimals = 2, out=None)\n",
        "\n"
      ],
      "metadata": {
        "id": "gbo8bD_2YZmE"
      },
      "execution_count": 117,
      "outputs": []
    },
    {
      "cell_type": "markdown",
      "source": [
        "Verificar se ainda existem informações nulas e se existirem quantas são"
      ],
      "metadata": {
        "id": "HK4tz_GVGiJt"
      }
    },
    {
      "cell_type": "code",
      "source": [
        "ano = 2016\n",
        "for i in lista_df:\n",
        "  print(f'Ano: {ano}')\n",
        "  print(i.info())\n",
        "  ano += 1\n",
        "  print()"
      ],
      "metadata": {
        "colab": {
          "base_uri": "https://localhost:8080/"
        },
        "id": "yzMLL63qEXw8",
        "outputId": "ee40ae93-0e97-4c38-a654-b0b0251a1545"
      },
      "execution_count": 118,
      "outputs": [
        {
          "output_type": "stream",
          "name": "stdout",
          "text": [
            "Ano: 2016\n",
            "<class 'pandas.core.frame.DataFrame'>\n",
            "RangeIndex: 26056 entries, 0 to 26055\n",
            "Data columns (total 11 columns):\n",
            " #   Column             Non-Null Count  Dtype  \n",
            "---  ------             --------------  -----  \n",
            " 0   ANO                26056 non-null  int64  \n",
            " 1   MES                26056 non-null  int64  \n",
            " 2   SENADOR            26056 non-null  object \n",
            " 3   TIPO_DESPESA       26056 non-null  object \n",
            " 4   CNPJ_CPF           26056 non-null  object \n",
            " 5   FORNECEDOR         26056 non-null  object \n",
            " 6   DOCUMENTO          21850 non-null  object \n",
            " 7   DATA               26056 non-null  object \n",
            " 8   DETALHAMENTO       22003 non-null  object \n",
            " 9   VALOR_REEMBOLSADO  8614 non-null   float64\n",
            " 10  COD_DOCUMENTO      26054 non-null  float64\n",
            "dtypes: float64(2), int64(2), object(7)\n",
            "memory usage: 2.2+ MB\n",
            "None\n",
            "\n",
            "Ano: 2017\n",
            "<class 'pandas.core.frame.DataFrame'>\n",
            "RangeIndex: 26768 entries, 0 to 26767\n",
            "Data columns (total 11 columns):\n",
            " #   Column             Non-Null Count  Dtype  \n",
            "---  ------             --------------  -----  \n",
            " 0   ANO                26768 non-null  int64  \n",
            " 1   MES                26768 non-null  int64  \n",
            " 2   SENADOR            26768 non-null  object \n",
            " 3   TIPO_DESPESA       26768 non-null  object \n",
            " 4   CNPJ_CPF           26768 non-null  object \n",
            " 5   FORNECEDOR         26768 non-null  object \n",
            " 6   DOCUMENTO          24679 non-null  object \n",
            " 7   DATA               26768 non-null  object \n",
            " 8   DETALHAMENTO       21358 non-null  object \n",
            " 9   VALOR_REEMBOLSADO  9012 non-null   float64\n",
            " 10  COD_DOCUMENTO      26768 non-null  int64  \n",
            "dtypes: float64(1), int64(3), object(7)\n",
            "memory usage: 2.2+ MB\n",
            "None\n",
            "\n",
            "Ano: 2018\n",
            "<class 'pandas.core.frame.DataFrame'>\n",
            "RangeIndex: 27023 entries, 0 to 27022\n",
            "Data columns (total 11 columns):\n",
            " #   Column             Non-Null Count  Dtype  \n",
            "---  ------             --------------  -----  \n",
            " 0   ANO                27023 non-null  int64  \n",
            " 1   MES                27023 non-null  int64  \n",
            " 2   SENADOR            27023 non-null  object \n",
            " 3   TIPO_DESPESA       27023 non-null  object \n",
            " 4   CNPJ_CPF           27023 non-null  object \n",
            " 5   FORNECEDOR         27023 non-null  object \n",
            " 6   DOCUMENTO          25704 non-null  object \n",
            " 7   DATA               27023 non-null  object \n",
            " 8   DETALHAMENTO       20866 non-null  object \n",
            " 9   VALOR_REEMBOLSADO  8727 non-null   float64\n",
            " 10  COD_DOCUMENTO      27023 non-null  int64  \n",
            "dtypes: float64(1), int64(3), object(7)\n",
            "memory usage: 2.3+ MB\n",
            "None\n",
            "\n",
            "Ano: 2019\n",
            "<class 'pandas.core.frame.DataFrame'>\n",
            "RangeIndex: 24492 entries, 0 to 24491\n",
            "Data columns (total 11 columns):\n",
            " #   Column             Non-Null Count  Dtype  \n",
            "---  ------             --------------  -----  \n",
            " 0   ANO                24492 non-null  int64  \n",
            " 1   MES                24492 non-null  int64  \n",
            " 2   SENADOR            24492 non-null  object \n",
            " 3   TIPO_DESPESA       24492 non-null  object \n",
            " 4   CNPJ_CPF           24492 non-null  object \n",
            " 5   FORNECEDOR         24492 non-null  object \n",
            " 6   DOCUMENTO          23476 non-null  object \n",
            " 7   DATA               24492 non-null  object \n",
            " 8   DETALHAMENTO       18882 non-null  object \n",
            " 9   VALOR_REEMBOLSADO  7895 non-null   float64\n",
            " 10  COD_DOCUMENTO      24492 non-null  int64  \n",
            "dtypes: float64(1), int64(3), object(7)\n",
            "memory usage: 2.1+ MB\n",
            "None\n",
            "\n",
            "Ano: 2020\n",
            "<class 'pandas.core.frame.DataFrame'>\n",
            "RangeIndex: 21634 entries, 0 to 21633\n",
            "Data columns (total 11 columns):\n",
            " #   Column             Non-Null Count  Dtype  \n",
            "---  ------             --------------  -----  \n",
            " 0   ANO                21634 non-null  int64  \n",
            " 1   MES                21634 non-null  int64  \n",
            " 2   SENADOR            21634 non-null  object \n",
            " 3   TIPO_DESPESA       21634 non-null  object \n",
            " 4   CNPJ_CPF           21634 non-null  object \n",
            " 5   FORNECEDOR         21634 non-null  object \n",
            " 6   DOCUMENTO          20900 non-null  object \n",
            " 7   DATA               21634 non-null  object \n",
            " 8   DETALHAMENTO       13092 non-null  object \n",
            " 9   VALOR_REEMBOLSADO  7241 non-null   float64\n",
            " 10  COD_DOCUMENTO      21634 non-null  int64  \n",
            "dtypes: float64(1), int64(3), object(7)\n",
            "memory usage: 1.8+ MB\n",
            "None\n",
            "\n",
            "Ano: 2021\n",
            "<class 'pandas.core.frame.DataFrame'>\n",
            "RangeIndex: 14090 entries, 0 to 14089\n",
            "Data columns (total 11 columns):\n",
            " #   Column             Non-Null Count  Dtype  \n",
            "---  ------             --------------  -----  \n",
            " 0   ANO                14090 non-null  int64  \n",
            " 1   MES                14090 non-null  int64  \n",
            " 2   SENADOR            14090 non-null  object \n",
            " 3   TIPO_DESPESA       14090 non-null  object \n",
            " 4   CNPJ_CPF           14090 non-null  object \n",
            " 5   FORNECEDOR         14090 non-null  object \n",
            " 6   DOCUMENTO          13470 non-null  object \n",
            " 7   DATA               14090 non-null  object \n",
            " 8   DETALHAMENTO       7228 non-null   object \n",
            " 9   VALOR_REEMBOLSADO  5503 non-null   float64\n",
            " 10  COD_DOCUMENTO      14090 non-null  int64  \n",
            "dtypes: float64(1), int64(3), object(7)\n",
            "memory usage: 1.2+ MB\n",
            "None\n",
            "\n"
          ]
        }
      ]
    },
    {
      "cell_type": "markdown",
      "source": [
        "Após verificar foi transformado os valores nulos nos campos que não seram usados para cálculos matemáticos em Strings indicando que a informação não foi preenchida."
      ],
      "metadata": {
        "id": "a8wLplhCG_k_"
      }
    },
    {
      "cell_type": "code",
      "source": [
        "#Substituir String\n",
        "\n",
        "for i in lista_df:\n",
        "\n",
        "  i[\"MES\"] = i[\"MES\"].replace(np.nan, \"Informação Não preenchida\")\n",
        "  i[\"TIPO_DESPESA\"] = i[\"TIPO_DESPESA\"].replace(np.nan, \"Informação Não preenchida\")\n",
        "  i[\"CNPJ_CPF\"] = i[\"CNPJ_CPF\"].replace(np.nan, \"Informação Não preenchida\")\n",
        "  i[\"FORNECEDOR\"] = i[\"FORNECEDOR\"].replace(np.nan, \"Informação Não preenchida\")\n",
        "  i[\"DOCUMENTO\"] = i[\"DOCUMENTO\"].replace(np.nan, \"Informação Não preenchida\")\n",
        "  i[\"DATA\"] = i[\"DATA\"].replace(np.nan, \"Informação Não preenchida\")\n",
        "  i[\"DETALHAMENTO\"] = i[\"DETALHAMENTO\"].replace(np.nan, \"Informação Não preenchida\")\n",
        "  i[\"COD_DOCUMENTO\"] = i[\"COD_DOCUMENTO\"].replace(np.nan, \"Informação Não preenchida\")\n"
      ],
      "metadata": {
        "id": "rEAKFE4-_eMD"
      },
      "execution_count": 119,
      "outputs": []
    },
    {
      "cell_type": "markdown",
      "source": [
        "Para finalizar o tratamento dos dados, foi utilizado a interpolação para preencher os valores NaN no campo de Valor Reembolsado e foi removido as colunas que não serão utilizadas"
      ],
      "metadata": {
        "id": "7j84_eEHHYuN"
      }
    },
    {
      "cell_type": "code",
      "source": [
        "#Devido a um número alto de NaN eu decide por substituilos pela média de cada senador\n",
        "for i in lista_df:\n",
        "  i[\"VALOR_REEMBOLSADO\"] = i[\"VALOR_REEMBOLSADO\"].interpolate() #ffill preenche com o anterior e bfill com o posterior\n",
        "  #display(i)\n",
        "  #print()\n",
        "\n",
        "\n",
        "\n",
        "for j in range(len(lista_df)):\n",
        "  lista_df[j] = lista_df[j].dropna(how=\"any\", axis=0) #Removendo alguns dados que não receberam valores e continuam NaN (são poucos portanto não atrapalha a análise)\n",
        "  lista_df[j] = lista_df[j].drop(columns= [\"TIPO_DESPESA\", \"FORNECEDOR\", \"DOCUMENTO\", \"COD_DOCUMENTO\"])\n"
      ],
      "metadata": {
        "id": "cAZwQ4WMomjJ"
      },
      "execution_count": 120,
      "outputs": []
    },
    {
      "cell_type": "markdown",
      "source": [
        "Ao separar e tratar os dados surgem perguntas que serão respondidas pelos mesmos. Nesse projeto serão respondidas as perguntas: \n",
        "\n",
        "\n",
        "\n",
        "*   Os gastos dos senadores aumentaram ou diminuiram durante os anos?\n",
        "*   No ano de 2020, durante a pandemia, os gastos sofreram mudanças drásticas?\n",
        "\n",
        "\n",
        "\n",
        "\n"
      ],
      "metadata": {
        "id": "M5jEmaeYDtix"
      }
    },
    {
      "cell_type": "markdown",
      "source": [
        "#**Gastos durante os anos**\n",
        "\n",
        "Entender como os gastos se apresentam ao passar dos anos é importante para surgir novas perguntas e correlacionado a essas perguntas surgem respostas, dessa forma surgiu a [iniciativa Operação Serenata de Amor](https://serenata.ai/?utm_source=ActiveCampaign&utm_medium=email&utm_content=%237DaysOfCode+-+Ci%C3%AAncia+de+Dados+1%2F7%3A+Data+Cleaning+and+Preparation&utm_campaign=%5BAlura+%237Days+Of+Code%5D%28Java%29+Dia+1%2F7%3A+Consumir+uma+API+de+filmes), que aplica Inteligência Artificial para analisar gastos de deputados brasileiros, e que já foi capaz de identificar vários usos indevidos do dinheiro público."
      ],
      "metadata": {
        "id": "vFmhH8d8K7UH"
      }
    },
    {
      "cell_type": "code",
      "source": [
        "dicionario_media = {}\n",
        "for i in lista_df:\n",
        "  string_chave = str(i.ANO.unique())\n",
        "  reembolso_df = i['VALOR_REEMBOLSADO'].mean()\n",
        "  dicionario_media[string_chave[1:5]] = reembolso_df\n",
        "\n",
        "\n",
        "figura = plt.figure(figsize=(15,5))\n",
        "df_dict = pd.DataFrame(list(dicionario_media.items()), columns=['Ano', 'Média Reembolso'])\n",
        "display(df_dict)\n",
        "ax = sns.lineplot(x = df_dict['Ano'], y = df_dict['Média Reembolso'], color='blue')\n",
        "ax.set_facecolor('#d3d3d3')\n",
        "plt.title('Média dos gastos dos senadores ao longo dos anos', fontsize=19)\n",
        "plt.ylabel('Valor Reembolso',fontsize=14)\n",
        "plt.xlabel('Anos', fontsize=14)"
      ],
      "metadata": {
        "id": "ZOPTXqu1ERvH",
        "colab": {
          "base_uri": "https://localhost:8080/",
          "height": 598
        },
        "outputId": "12205a73-61e4-460d-aa5c-88e55c04a241"
      },
      "execution_count": 145,
      "outputs": [
        {
          "output_type": "display_data",
          "data": {
            "text/plain": [
              "    Ano  Média Reembolso\n",
              "0  2015      2877.189376\n",
              "1  2016      1887.328103\n",
              "2  2017      1881.093624\n",
              "3  2018      2007.104483\n",
              "4  2019      2114.562546\n",
              "5  2020      2482.279316"
            ],
            "text/html": [
              "\n",
              "  <div id=\"df-bbd9997c-f03a-45d9-9d87-18a66651da7e\">\n",
              "    <div class=\"colab-df-container\">\n",
              "      <div>\n",
              "<style scoped>\n",
              "    .dataframe tbody tr th:only-of-type {\n",
              "        vertical-align: middle;\n",
              "    }\n",
              "\n",
              "    .dataframe tbody tr th {\n",
              "        vertical-align: top;\n",
              "    }\n",
              "\n",
              "    .dataframe thead th {\n",
              "        text-align: right;\n",
              "    }\n",
              "</style>\n",
              "<table border=\"1\" class=\"dataframe\">\n",
              "  <thead>\n",
              "    <tr style=\"text-align: right;\">\n",
              "      <th></th>\n",
              "      <th>Ano</th>\n",
              "      <th>Média Reembolso</th>\n",
              "    </tr>\n",
              "  </thead>\n",
              "  <tbody>\n",
              "    <tr>\n",
              "      <th>0</th>\n",
              "      <td>2015</td>\n",
              "      <td>2877.189376</td>\n",
              "    </tr>\n",
              "    <tr>\n",
              "      <th>1</th>\n",
              "      <td>2016</td>\n",
              "      <td>1887.328103</td>\n",
              "    </tr>\n",
              "    <tr>\n",
              "      <th>2</th>\n",
              "      <td>2017</td>\n",
              "      <td>1881.093624</td>\n",
              "    </tr>\n",
              "    <tr>\n",
              "      <th>3</th>\n",
              "      <td>2018</td>\n",
              "      <td>2007.104483</td>\n",
              "    </tr>\n",
              "    <tr>\n",
              "      <th>4</th>\n",
              "      <td>2019</td>\n",
              "      <td>2114.562546</td>\n",
              "    </tr>\n",
              "    <tr>\n",
              "      <th>5</th>\n",
              "      <td>2020</td>\n",
              "      <td>2482.279316</td>\n",
              "    </tr>\n",
              "  </tbody>\n",
              "</table>\n",
              "</div>\n",
              "      <button class=\"colab-df-convert\" onclick=\"convertToInteractive('df-bbd9997c-f03a-45d9-9d87-18a66651da7e')\"\n",
              "              title=\"Convert this dataframe to an interactive table.\"\n",
              "              style=\"display:none;\">\n",
              "        \n",
              "  <svg xmlns=\"http://www.w3.org/2000/svg\" height=\"24px\"viewBox=\"0 0 24 24\"\n",
              "       width=\"24px\">\n",
              "    <path d=\"M0 0h24v24H0V0z\" fill=\"none\"/>\n",
              "    <path d=\"M18.56 5.44l.94 2.06.94-2.06 2.06-.94-2.06-.94-.94-2.06-.94 2.06-2.06.94zm-11 1L8.5 8.5l.94-2.06 2.06-.94-2.06-.94L8.5 2.5l-.94 2.06-2.06.94zm10 10l.94 2.06.94-2.06 2.06-.94-2.06-.94-.94-2.06-.94 2.06-2.06.94z\"/><path d=\"M17.41 7.96l-1.37-1.37c-.4-.4-.92-.59-1.43-.59-.52 0-1.04.2-1.43.59L10.3 9.45l-7.72 7.72c-.78.78-.78 2.05 0 2.83L4 21.41c.39.39.9.59 1.41.59.51 0 1.02-.2 1.41-.59l7.78-7.78 2.81-2.81c.8-.78.8-2.07 0-2.86zM5.41 20L4 18.59l7.72-7.72 1.47 1.35L5.41 20z\"/>\n",
              "  </svg>\n",
              "      </button>\n",
              "      \n",
              "  <style>\n",
              "    .colab-df-container {\n",
              "      display:flex;\n",
              "      flex-wrap:wrap;\n",
              "      gap: 12px;\n",
              "    }\n",
              "\n",
              "    .colab-df-convert {\n",
              "      background-color: #E8F0FE;\n",
              "      border: none;\n",
              "      border-radius: 50%;\n",
              "      cursor: pointer;\n",
              "      display: none;\n",
              "      fill: #1967D2;\n",
              "      height: 32px;\n",
              "      padding: 0 0 0 0;\n",
              "      width: 32px;\n",
              "    }\n",
              "\n",
              "    .colab-df-convert:hover {\n",
              "      background-color: #E2EBFA;\n",
              "      box-shadow: 0px 1px 2px rgba(60, 64, 67, 0.3), 0px 1px 3px 1px rgba(60, 64, 67, 0.15);\n",
              "      fill: #174EA6;\n",
              "    }\n",
              "\n",
              "    [theme=dark] .colab-df-convert {\n",
              "      background-color: #3B4455;\n",
              "      fill: #D2E3FC;\n",
              "    }\n",
              "\n",
              "    [theme=dark] .colab-df-convert:hover {\n",
              "      background-color: #434B5C;\n",
              "      box-shadow: 0px 1px 3px 1px rgba(0, 0, 0, 0.15);\n",
              "      filter: drop-shadow(0px 1px 2px rgba(0, 0, 0, 0.3));\n",
              "      fill: #FFFFFF;\n",
              "    }\n",
              "  </style>\n",
              "\n",
              "      <script>\n",
              "        const buttonEl =\n",
              "          document.querySelector('#df-bbd9997c-f03a-45d9-9d87-18a66651da7e button.colab-df-convert');\n",
              "        buttonEl.style.display =\n",
              "          google.colab.kernel.accessAllowed ? 'block' : 'none';\n",
              "\n",
              "        async function convertToInteractive(key) {\n",
              "          const element = document.querySelector('#df-bbd9997c-f03a-45d9-9d87-18a66651da7e');\n",
              "          const dataTable =\n",
              "            await google.colab.kernel.invokeFunction('convertToInteractive',\n",
              "                                                     [key], {});\n",
              "          if (!dataTable) return;\n",
              "\n",
              "          const docLinkHtml = 'Like what you see? Visit the ' +\n",
              "            '<a target=\"_blank\" href=https://colab.research.google.com/notebooks/data_table.ipynb>data table notebook</a>'\n",
              "            + ' to learn more about interactive tables.';\n",
              "          element.innerHTML = '';\n",
              "          dataTable['output_type'] = 'display_data';\n",
              "          await google.colab.output.renderOutput(dataTable, element);\n",
              "          const docLink = document.createElement('div');\n",
              "          docLink.innerHTML = docLinkHtml;\n",
              "          element.appendChild(docLink);\n",
              "        }\n",
              "      </script>\n",
              "    </div>\n",
              "  </div>\n",
              "  "
            ]
          },
          "metadata": {}
        },
        {
          "output_type": "execute_result",
          "data": {
            "text/plain": [
              "Text(0.5, 0, 'Anos')"
            ]
          },
          "metadata": {},
          "execution_count": 145
        },
        {
          "output_type": "display_data",
          "data": {
            "text/plain": [
              "<Figure size 1080x360 with 1 Axes>"
            ],
            "image/png": "[encoded data removed]"
          },
          "metadata": {
            "needs_background": "light"
          }
        }
      ]
    },
    {
      "cell_type": "markdown",
      "source": [
        "Como foi apresentado, a média de gasto dos senadores aumentaram consideravelmente, principalmente de 2017 à 2020 com um crescimento de aproximadamente 32%. O crescimento tão grande desses gastos podem ser relacionados ao aumento da inflação, segundo o G1 a inflação fecha 2020 com maior alta desde 2016, 2015 também possui um elevado gasto por parte dos senadores e o país possuia o IPCA (Inflação anual) de 10,67%, esse elevado gasto foi o maior entre 2015 e 2020. Apesar da variação inflação de 2020 ser menor do que outros anos ela possui altas exorbitantes em determinados meses como dezembro que foi a maior alta desde 2003. \n",
        "\n",
        "O gráfico de gastos, com exceção de 2016, acompanhou a subida da inflação como apresentado nessa imagem. Portanto, esse pensamento do aumento ser devido a ela não pode ser descartado.\n",
        "\n",
        "![cs8oa-infla-o-ao-longo-dos-ltimos-anos.webp](data:image/webp;base64,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)\n",
        "\n",
        "\n",
        "([Link do G1](https://g1.globo.com/economia/noticia/2021/01/12/ipca-inflacao-oficial-fecha-2020-em-452percent.ghtml)). "
      ],
      "metadata": {
        "id": "n-Nd8wUPbenK"
      }
    },
    {
      "cell_type": "markdown",
      "source": [
        "#**Ocorreu aumento drástico na Pandemia?**\n",
        "\n",
        "Analisando o gráfico do momento em que ele cresce a partir do ano de 2017, podemos observar o aumento de 6,70% de gastos no ano de 2018 comparado a 2017, em 2019 não houve aumento em relação a 2018 no entanto o aumento de 2020 em relação a 2019 é de 17,39%. Portanto, podemos concluir que ocorreu um aumento maior nos gastos no ano em que houve a pandemia de covid-19. "
      ],
      "metadata": {
        "id": "_9GowfvbjsrY"
      }
    },
    {
      "cell_type": "code",
      "source": [
        "variacao = df_dict['Média Reembolso'].pct_change()\n",
        "\n",
        "variacao_lista = list(variacao)\n",
        "variacao_desejada = [i * 100 for i in variacao_lista[2:]]\n",
        "ano_desejado = df_dict[2:]['Ano']\n",
        "df_dict['Variação'] = variacao * 100\n",
        "display(df_dict)\n",
        "\n",
        "print(\"----\"*40)\n",
        "plt.bar(ano_desejado, variacao_desejada, width=0.75, color='#054f77')\n",
        "plt.title('Variação do percentual dos gastos dos anos de 2017 até 2020', fontsize=16)\n",
        "\n",
        "plt.ylabel('Porcentagem', fontsize=14)\n",
        "plt.xlabel('Anos (2017 - 2020)', fontsize=14)\n",
        "\n",
        "plt.show()\n"
      ],
      "metadata": {
        "colab": {
          "base_uri": "https://localhost:8080/",
          "height": 560
        },
        "id": "xh-NxdXWk1Y4",
        "outputId": "7e38360e-9d17-4f49-ebf5-1b584285d291"
      },
      "execution_count": 183,
      "outputs": [
        {
          "output_type": "display_data",
          "data": {
            "text/plain": [
              "    Ano  Média Reembolso   Variação\n",
              "0  2015      2877.189376        NaN\n",
              "1  2016      1887.328103 -34.403758\n",
              "2  2017      1881.093624  -0.330334\n",
              "3  2018      2007.104483   6.698808\n",
              "4  2019      2114.562546   5.353885\n",
              "5  2020      2482.279316  17.389732"
            ],
            "text/html": [
              "\n",
              "  <div id=\"df-516eb69a-9f70-4336-8099-69746e7e9a2a\">\n",
              "    <div class=\"colab-df-container\">\n",
              "      <div>\n",
              "<style scoped>\n",
              "    .dataframe tbody tr th:only-of-type {\n",
              "        vertical-align: middle;\n",
              "    }\n",
              "\n",
              "    .dataframe tbody tr th {\n",
              "        vertical-align: top;\n",
              "    }\n",
              "\n",
              "    .dataframe thead th {\n",
              "        text-align: right;\n",
              "    }\n",
              "</style>\n",
              "<table border=\"1\" class=\"dataframe\">\n",
              "  <thead>\n",
              "    <tr style=\"text-align: right;\">\n",
              "      <th></th>\n",
              "      <th>Ano</th>\n",
              "      <th>Média Reembolso</th>\n",
              "      <th>Variação</th>\n",
              "    </tr>\n",
              "  </thead>\n",
              "  <tbody>\n",
              "    <tr>\n",
              "      <th>0</th>\n",
              "      <td>2015</td>\n",
              "      <td>2877.189376</td>\n",
              "      <td>NaN</td>\n",
              "    </tr>\n",
              "    <tr>\n",
              "      <th>1</th>\n",
              "      <td>2016</td>\n",
              "      <td>1887.328103</td>\n",
              "      <td>-34.403758</td>\n",
              "    </tr>\n",
              "    <tr>\n",
              "      <th>2</th>\n",
              "      <td>2017</td>\n",
              "      <td>1881.093624</td>\n",
              "      <td>-0.330334</td>\n",
              "    </tr>\n",
              "    <tr>\n",
              "      <th>3</th>\n",
              "      <td>2018</td>\n",
              "      <td>2007.104483</td>\n",
              "      <td>6.698808</td>\n",
              "    </tr>\n",
              "    <tr>\n",
              "      <th>4</th>\n",
              "      <td>2019</td>\n",
              "      <td>2114.562546</td>\n",
              "      <td>5.353885</td>\n",
              "    </tr>\n",
              "    <tr>\n",
              "      <th>5</th>\n",
              "      <td>2020</td>\n",
              "      <td>2482.279316</td>\n",
              "      <td>17.389732</td>\n",
              "    </tr>\n",
              "  </tbody>\n",
              "</table>\n",
              "</div>\n",
              "      <button class=\"colab-df-convert\" onclick=\"convertToInteractive('df-516eb69a-9f70-4336-8099-69746e7e9a2a')\"\n",
              "              title=\"Convert this dataframe to an interactive table.\"\n",
              "              style=\"display:none;\">\n",
              "        \n",
              "  <svg xmlns=\"http://www.w3.org/2000/svg\" height=\"24px\"viewBox=\"0 0 24 24\"\n",
              "       width=\"24px\">\n",
              "    <path d=\"M0 0h24v24H0V0z\" fill=\"none\"/>\n",
              "    <path d=\"M18.56 5.44l.94 2.06.94-2.06 2.06-.94-2.06-.94-.94-2.06-.94 2.06-2.06.94zm-11 1L8.5 8.5l.94-2.06 2.06-.94-2.06-.94L8.5 2.5l-.94 2.06-2.06.94zm10 10l.94 2.06.94-2.06 2.06-.94-2.06-.94-.94-2.06-.94 2.06-2.06.94z\"/><path d=\"M17.41 7.96l-1.37-1.37c-.4-.4-.92-.59-1.43-.59-.52 0-1.04.2-1.43.59L10.3 9.45l-7.72 7.72c-.78.78-.78 2.05 0 2.83L4 21.41c.39.39.9.59 1.41.59.51 0 1.02-.2 1.41-.59l7.78-7.78 2.81-2.81c.8-.78.8-2.07 0-2.86zM5.41 20L4 18.59l7.72-7.72 1.47 1.35L5.41 20z\"/>\n",
              "  </svg>\n",
              "      </button>\n",
              "      \n",
              "  <style>\n",
              "    .colab-df-container {\n",
              "      display:flex;\n",
              "      flex-wrap:wrap;\n",
              "      gap: 12px;\n",
              "    }\n",
              "\n",
              "    .colab-df-convert {\n",
              "      background-color: #E8F0FE;\n",
              "      border: none;\n",
              "      border-radius: 50%;\n",
              "      cursor: pointer;\n",
              "      display: none;\n",
              "      fill: #1967D2;\n",
              "      height: 32px;\n",
              "      padding: 0 0 0 0;\n",
              "      width: 32px;\n",
              "    }\n",
              "\n",
              "    .colab-df-convert:hover {\n",
              "      background-color: #E2EBFA;\n",
              "      box-shadow: 0px 1px 2px rgba(60, 64, 67, 0.3), 0px 1px 3px 1px rgba(60, 64, 67, 0.15);\n",
              "      fill: #174EA6;\n",
              "    }\n",
              "\n",
              "    [theme=dark] .colab-df-convert {\n",
              "      background-color: #3B4455;\n",
              "      fill: #D2E3FC;\n",
              "    }\n",
              "\n",
              "    [theme=dark] .colab-df-convert:hover {\n",
              "      background-color: #434B5C;\n",
              "      box-shadow: 0px 1px 3px 1px rgba(0, 0, 0, 0.15);\n",
              "      filter: drop-shadow(0px 1px 2px rgba(0, 0, 0, 0.3));\n",
              "      fill: #FFFFFF;\n",
              "    }\n",
              "  </style>\n",
              "\n",
              "      <script>\n",
              "        const buttonEl =\n",
              "          document.querySelector('#df-516eb69a-9f70-4336-8099-69746e7e9a2a button.colab-df-convert');\n",
              "        buttonEl.style.display =\n",
              "          google.colab.kernel.accessAllowed ? 'block' : 'none';\n",
              "\n",
              "        async function convertToInteractive(key) {\n",
              "          const element = document.querySelector('#df-516eb69a-9f70-4336-8099-69746e7e9a2a');\n",
              "          const dataTable =\n",
              "            await google.colab.kernel.invokeFunction('convertToInteractive',\n",
              "                                                     [key], {});\n",
              "          if (!dataTable) return;\n",
              "\n",
              "          const docLinkHtml = 'Like what you see? Visit the ' +\n",
              "            '<a target=\"_blank\" href=https://colab.research.google.com/notebooks/data_table.ipynb>data table notebook</a>'\n",
              "            + ' to learn more about interactive tables.';\n",
              "          element.innerHTML = '';\n",
              "          dataTable['output_type'] = 'display_data';\n",
              "          await google.colab.output.renderOutput(dataTable, element);\n",
              "          const docLink = document.createElement('div');\n",
              "          docLink.innerHTML = docLinkHtml;\n",
              "          element.appendChild(docLink);\n",
              "        }\n",
              "      </script>\n",
              "    </div>\n",
              "  </div>\n",
              "  "
            ]
          },
          "metadata": {}
        },
        {
          "output_type": "stream",
          "name": "stdout",
          "text": [
            "----------------------------------------------------------------------------------------------------------------------------------------------------------------\n"
          ]
        },
        {
          "output_type": "display_data",
          "data": {
            "text/plain": [
              "<Figure size 432x288 with 1 Axes>"
            ],
            "image/png": "[encoded data removed]"
          },
          "metadata": {
            "needs_background": "light"
          }
        }
      ]
    },
    {
      "cell_type": "markdown",
      "source": [
        "O gráfico acima apresenta bem os dados mencionados e a variação percentual dos gastos. \n",
        "\n",
        "#Conclusão\n",
        "\n",
        "\n",
        "---\n",
        "\n",
        "Estudar temas como os gastos dos senadores nos ajuda a ficar cientes de como o dinheiro está sendo gasto e se houver uma tendência de aumento quais os motivos a serem considerados. Analisar o aumento ou a diminuição é muito diferente de entender se os gastos estão sendo feitos de maneira honesta ou se existem gastos feito de maneira irregular, para esse fim deve ser feito uma análise mais minuciosa como a ***iniciativa Operação Serenata de Amor***, porém a que foi feita aqui têm apenas caráter educativo sendo utilizado para testar e treinar meus conhecimentos em análise de dados. Por trás do tema, existe um grande número de ciêntistas que estudam ele mais a fundo.\n",
        "\n",
        "\n",
        "\n",
        "\n",
        "\n",
        "#Conclusão dos dados\n",
        "\n",
        "---\n",
        "\n",
        "\n",
        "\n",
        "*   Os gastos dos senadores aumentaram ao longo dos anos, o aumento de um ano em relação ao outro acompanhou a variação do IPCA ao longo dos últimos anos\n",
        "*   A pandêmia aumentou os gastos de forma considerável sendo o ano com a maior taxa de variação percentual desde 2017.   \n",
        "\n",
        "\n",
        "\n",
        "\n"
      ],
      "metadata": {
        "id": "HIhV429lKjQC"
      }
    }
  ]
}